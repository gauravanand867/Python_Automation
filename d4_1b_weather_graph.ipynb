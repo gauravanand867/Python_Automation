{
  "nbformat": 4,
  "nbformat_minor": 0,
  "metadata": {
    "colab": {
      "name": "day4_1b_weather_graph.ipynb",
      "provenance": [],
      "collapsed_sections": [],
      "toc_visible": true,
      "authorship_tag": "ABX9TyP8+qLHVyMCgHNbRH0C91Nf",
      "include_colab_link": true
    },
    "kernelspec": {
      "name": "python3",
      "display_name": "Python 3"
    }
  },
  "cells": [
    {
      "cell_type": "markdown",
      "metadata": {
        "id": "view-in-github",
        "colab_type": "text"
      },
      "source": [
        "<a href=\"https://colab.research.google.com/github/gauravanand867/Python_Automation/blob/master/day4_1b_weather_graph.ipynb\" target=\"_parent\"><img src=\"https://colab.research.google.com/assets/colab-badge.svg\" alt=\"Open In Colab\"/></a>"
      ]
    },
    {
      "cell_type": "code",
      "metadata": {
        "id": "vZIkevJDEdvI",
        "colab_type": "code",
        "colab": {}
      },
      "source": [
        "import matplotlib.pyplot as plt\n",
        "import pandas as pd"
      ],
      "execution_count": null,
      "outputs": []
    },
    {
      "cell_type": "code",
      "metadata": {
        "id": "g_N2BiDTn205",
        "colab_type": "code",
        "colab": {}
      },
      "source": [
        "df=pd.read_csv('/content/weatherdataaugust.csv')"
      ],
      "execution_count": null,
      "outputs": []
    },
    {
      "cell_type": "code",
      "metadata": {
        "id": "MrX6xzxMoDy5",
        "colab_type": "code",
        "colab": {
          "base_uri": "https://localhost:8080/",
          "height": 1000
        },
        "outputId": "7130a3ff-ab33-4eb5-caac-af6e44c10d42"
      },
      "source": [
        "df"
      ],
      "execution_count": null,
      "outputs": [
        {
          "output_type": "execute_result",
          "data": {
            "text/html": [
              "<div>\n",
              "<style scoped>\n",
              "    .dataframe tbody tr th:only-of-type {\n",
              "        vertical-align: middle;\n",
              "    }\n",
              "\n",
              "    .dataframe tbody tr th {\n",
              "        vertical-align: top;\n",
              "    }\n",
              "\n",
              "    .dataframe thead th {\n",
              "        text-align: right;\n",
              "    }\n",
              "</style>\n",
              "<table border=\"1\" class=\"dataframe\">\n",
              "  <thead>\n",
              "    <tr style=\"text-align: right;\">\n",
              "      <th></th>\n",
              "      <th>Unnamed: 0</th>\n",
              "      <th>Date</th>\n",
              "      <th>High_Temperature</th>\n",
              "      <th>Low_Temperature</th>\n",
              "      <th>Precipitation</th>\n",
              "    </tr>\n",
              "  </thead>\n",
              "  <tbody>\n",
              "    <tr>\n",
              "      <th>0</th>\n",
              "      <td>0</td>\n",
              "      <td>1</td>\n",
              "      <td>35</td>\n",
              "      <td>26</td>\n",
              "      <td>0.0</td>\n",
              "    </tr>\n",
              "    <tr>\n",
              "      <th>1</th>\n",
              "      <td>1</td>\n",
              "      <td>2</td>\n",
              "      <td>35</td>\n",
              "      <td>26</td>\n",
              "      <td>2.0</td>\n",
              "    </tr>\n",
              "    <tr>\n",
              "      <th>2</th>\n",
              "      <td>2</td>\n",
              "      <td>3</td>\n",
              "      <td>35</td>\n",
              "      <td>27</td>\n",
              "      <td>4.0</td>\n",
              "    </tr>\n",
              "    <tr>\n",
              "      <th>3</th>\n",
              "      <td>3</td>\n",
              "      <td>4</td>\n",
              "      <td>37</td>\n",
              "      <td>26</td>\n",
              "      <td>24.0</td>\n",
              "    </tr>\n",
              "    <tr>\n",
              "      <th>4</th>\n",
              "      <td>4</td>\n",
              "      <td>5</td>\n",
              "      <td>35</td>\n",
              "      <td>25</td>\n",
              "      <td>17.0</td>\n",
              "    </tr>\n",
              "    <tr>\n",
              "      <th>5</th>\n",
              "      <td>5</td>\n",
              "      <td>6</td>\n",
              "      <td>34</td>\n",
              "      <td>26</td>\n",
              "      <td>7.0</td>\n",
              "    </tr>\n",
              "    <tr>\n",
              "      <th>6</th>\n",
              "      <td>6</td>\n",
              "      <td>7</td>\n",
              "      <td>34</td>\n",
              "      <td>27</td>\n",
              "      <td>0.0</td>\n",
              "    </tr>\n",
              "    <tr>\n",
              "      <th>7</th>\n",
              "      <td>7</td>\n",
              "      <td>8</td>\n",
              "      <td>36</td>\n",
              "      <td>27</td>\n",
              "      <td>0.0</td>\n",
              "    </tr>\n",
              "    <tr>\n",
              "      <th>8</th>\n",
              "      <td>8</td>\n",
              "      <td>9</td>\n",
              "      <td>34</td>\n",
              "      <td>28</td>\n",
              "      <td>7.0</td>\n",
              "    </tr>\n",
              "    <tr>\n",
              "      <th>9</th>\n",
              "      <td>9</td>\n",
              "      <td>10</td>\n",
              "      <td>34</td>\n",
              "      <td>28</td>\n",
              "      <td>0.0</td>\n",
              "    </tr>\n",
              "    <tr>\n",
              "      <th>10</th>\n",
              "      <td>10</td>\n",
              "      <td>11</td>\n",
              "      <td>35</td>\n",
              "      <td>26</td>\n",
              "      <td>61.0</td>\n",
              "    </tr>\n",
              "    <tr>\n",
              "      <th>11</th>\n",
              "      <td>11</td>\n",
              "      <td>12</td>\n",
              "      <td>33</td>\n",
              "      <td>27</td>\n",
              "      <td>56.0</td>\n",
              "    </tr>\n",
              "    <tr>\n",
              "      <th>12</th>\n",
              "      <td>12</td>\n",
              "      <td>13</td>\n",
              "      <td>32</td>\n",
              "      <td>27</td>\n",
              "      <td>51.0</td>\n",
              "    </tr>\n",
              "    <tr>\n",
              "      <th>13</th>\n",
              "      <td>13</td>\n",
              "      <td>14</td>\n",
              "      <td>33</td>\n",
              "      <td>27</td>\n",
              "      <td>40.0</td>\n",
              "    </tr>\n",
              "    <tr>\n",
              "      <th>14</th>\n",
              "      <td>14</td>\n",
              "      <td>15</td>\n",
              "      <td>33</td>\n",
              "      <td>27</td>\n",
              "      <td>41.0</td>\n",
              "    </tr>\n",
              "    <tr>\n",
              "      <th>15</th>\n",
              "      <td>15</td>\n",
              "      <td>16</td>\n",
              "      <td>33</td>\n",
              "      <td>27</td>\n",
              "      <td>48.0</td>\n",
              "    </tr>\n",
              "    <tr>\n",
              "      <th>16</th>\n",
              "      <td>16</td>\n",
              "      <td>17</td>\n",
              "      <td>33</td>\n",
              "      <td>27</td>\n",
              "      <td>45.0</td>\n",
              "    </tr>\n",
              "    <tr>\n",
              "      <th>17</th>\n",
              "      <td>17</td>\n",
              "      <td>18</td>\n",
              "      <td>33</td>\n",
              "      <td>27</td>\n",
              "      <td>51.0</td>\n",
              "    </tr>\n",
              "    <tr>\n",
              "      <th>18</th>\n",
              "      <td>18</td>\n",
              "      <td>19</td>\n",
              "      <td>34</td>\n",
              "      <td>26</td>\n",
              "      <td>52.0</td>\n",
              "    </tr>\n",
              "    <tr>\n",
              "      <th>19</th>\n",
              "      <td>19</td>\n",
              "      <td>20</td>\n",
              "      <td>35</td>\n",
              "      <td>26</td>\n",
              "      <td>40.0</td>\n",
              "    </tr>\n",
              "    <tr>\n",
              "      <th>20</th>\n",
              "      <td>20</td>\n",
              "      <td>21</td>\n",
              "      <td>35</td>\n",
              "      <td>25</td>\n",
              "      <td>40.0</td>\n",
              "    </tr>\n",
              "    <tr>\n",
              "      <th>21</th>\n",
              "      <td>21</td>\n",
              "      <td>22</td>\n",
              "      <td>30</td>\n",
              "      <td>29</td>\n",
              "      <td>56.0</td>\n",
              "    </tr>\n",
              "    <tr>\n",
              "      <th>22</th>\n",
              "      <td>22</td>\n",
              "      <td>23</td>\n",
              "      <td>30</td>\n",
              "      <td>28</td>\n",
              "      <td>61.0</td>\n",
              "    </tr>\n",
              "    <tr>\n",
              "      <th>23</th>\n",
              "      <td>23</td>\n",
              "      <td>24</td>\n",
              "      <td>30</td>\n",
              "      <td>28</td>\n",
              "      <td>62.0</td>\n",
              "    </tr>\n",
              "    <tr>\n",
              "      <th>24</th>\n",
              "      <td>24</td>\n",
              "      <td>25</td>\n",
              "      <td>31</td>\n",
              "      <td>28</td>\n",
              "      <td>63.0</td>\n",
              "    </tr>\n",
              "    <tr>\n",
              "      <th>25</th>\n",
              "      <td>25</td>\n",
              "      <td>26</td>\n",
              "      <td>33</td>\n",
              "      <td>25</td>\n",
              "      <td>40.0</td>\n",
              "    </tr>\n",
              "    <tr>\n",
              "      <th>26</th>\n",
              "      <td>26</td>\n",
              "      <td>27</td>\n",
              "      <td>32</td>\n",
              "      <td>25</td>\n",
              "      <td>61.0</td>\n",
              "    </tr>\n",
              "    <tr>\n",
              "      <th>27</th>\n",
              "      <td>27</td>\n",
              "      <td>28</td>\n",
              "      <td>32</td>\n",
              "      <td>26</td>\n",
              "      <td>63.0</td>\n",
              "    </tr>\n",
              "    <tr>\n",
              "      <th>28</th>\n",
              "      <td>28</td>\n",
              "      <td>29</td>\n",
              "      <td>33</td>\n",
              "      <td>25</td>\n",
              "      <td>64.0</td>\n",
              "    </tr>\n",
              "    <tr>\n",
              "      <th>29</th>\n",
              "      <td>29</td>\n",
              "      <td>30</td>\n",
              "      <td>32</td>\n",
              "      <td>25</td>\n",
              "      <td>56.0</td>\n",
              "    </tr>\n",
              "    <tr>\n",
              "      <th>30</th>\n",
              "      <td>30</td>\n",
              "      <td>31</td>\n",
              "      <td>32</td>\n",
              "      <td>25</td>\n",
              "      <td>56.0</td>\n",
              "    </tr>\n",
              "  </tbody>\n",
              "</table>\n",
              "</div>"
            ],
            "text/plain": [
              "    Unnamed: 0  Date  High_Temperature  Low_Temperature  Precipitation\n",
              "0            0     1                35               26            0.0\n",
              "1            1     2                35               26            2.0\n",
              "2            2     3                35               27            4.0\n",
              "3            3     4                37               26           24.0\n",
              "4            4     5                35               25           17.0\n",
              "5            5     6                34               26            7.0\n",
              "6            6     7                34               27            0.0\n",
              "7            7     8                36               27            0.0\n",
              "8            8     9                34               28            7.0\n",
              "9            9    10                34               28            0.0\n",
              "10          10    11                35               26           61.0\n",
              "11          11    12                33               27           56.0\n",
              "12          12    13                32               27           51.0\n",
              "13          13    14                33               27           40.0\n",
              "14          14    15                33               27           41.0\n",
              "15          15    16                33               27           48.0\n",
              "16          16    17                33               27           45.0\n",
              "17          17    18                33               27           51.0\n",
              "18          18    19                34               26           52.0\n",
              "19          19    20                35               26           40.0\n",
              "20          20    21                35               25           40.0\n",
              "21          21    22                30               29           56.0\n",
              "22          22    23                30               28           61.0\n",
              "23          23    24                30               28           62.0\n",
              "24          24    25                31               28           63.0\n",
              "25          25    26                33               25           40.0\n",
              "26          26    27                32               25           61.0\n",
              "27          27    28                32               26           63.0\n",
              "28          28    29                33               25           64.0\n",
              "29          29    30                32               25           56.0\n",
              "30          30    31                32               25           56.0"
            ]
          },
          "metadata": {
            "tags": []
          },
          "execution_count": 24
        }
      ]
    },
    {
      "cell_type": "code",
      "metadata": {
        "id": "rAE6mnGWwltc",
        "colab_type": "code",
        "colab": {}
      },
      "source": [
        "df_patna=pd.read_csv('/content/weatherdataaugustpatna.csv')"
      ],
      "execution_count": null,
      "outputs": []
    },
    {
      "cell_type": "code",
      "metadata": {
        "id": "Si6ljBGIwxLg",
        "colab_type": "code",
        "colab": {
          "base_uri": "https://localhost:8080/",
          "height": 1000
        },
        "outputId": "a555e50d-dedd-4cf7-a5e5-82e15d4494db"
      },
      "source": [
        "df_patna"
      ],
      "execution_count": null,
      "outputs": [
        {
          "output_type": "execute_result",
          "data": {
            "text/html": [
              "<div>\n",
              "<style scoped>\n",
              "    .dataframe tbody tr th:only-of-type {\n",
              "        vertical-align: middle;\n",
              "    }\n",
              "\n",
              "    .dataframe tbody tr th {\n",
              "        vertical-align: top;\n",
              "    }\n",
              "\n",
              "    .dataframe thead th {\n",
              "        text-align: right;\n",
              "    }\n",
              "</style>\n",
              "<table border=\"1\" class=\"dataframe\">\n",
              "  <thead>\n",
              "    <tr style=\"text-align: right;\">\n",
              "      <th></th>\n",
              "      <th>Unnamed: 0</th>\n",
              "      <th>Date</th>\n",
              "      <th>High_Temperature</th>\n",
              "      <th>Low_Temperature</th>\n",
              "      <th>Precipitation</th>\n",
              "    </tr>\n",
              "  </thead>\n",
              "  <tbody>\n",
              "    <tr>\n",
              "      <th>0</th>\n",
              "      <td>0</td>\n",
              "      <td>1</td>\n",
              "      <td>35</td>\n",
              "      <td>26</td>\n",
              "      <td>0.0</td>\n",
              "    </tr>\n",
              "    <tr>\n",
              "      <th>1</th>\n",
              "      <td>1</td>\n",
              "      <td>2</td>\n",
              "      <td>35</td>\n",
              "      <td>26</td>\n",
              "      <td>2.0</td>\n",
              "    </tr>\n",
              "    <tr>\n",
              "      <th>2</th>\n",
              "      <td>2</td>\n",
              "      <td>3</td>\n",
              "      <td>35</td>\n",
              "      <td>27</td>\n",
              "      <td>4.0</td>\n",
              "    </tr>\n",
              "    <tr>\n",
              "      <th>3</th>\n",
              "      <td>3</td>\n",
              "      <td>4</td>\n",
              "      <td>37</td>\n",
              "      <td>26</td>\n",
              "      <td>24.0</td>\n",
              "    </tr>\n",
              "    <tr>\n",
              "      <th>4</th>\n",
              "      <td>4</td>\n",
              "      <td>5</td>\n",
              "      <td>35</td>\n",
              "      <td>25</td>\n",
              "      <td>17.0</td>\n",
              "    </tr>\n",
              "    <tr>\n",
              "      <th>5</th>\n",
              "      <td>5</td>\n",
              "      <td>6</td>\n",
              "      <td>34</td>\n",
              "      <td>26</td>\n",
              "      <td>7.0</td>\n",
              "    </tr>\n",
              "    <tr>\n",
              "      <th>6</th>\n",
              "      <td>6</td>\n",
              "      <td>7</td>\n",
              "      <td>34</td>\n",
              "      <td>27</td>\n",
              "      <td>0.0</td>\n",
              "    </tr>\n",
              "    <tr>\n",
              "      <th>7</th>\n",
              "      <td>7</td>\n",
              "      <td>8</td>\n",
              "      <td>36</td>\n",
              "      <td>27</td>\n",
              "      <td>0.0</td>\n",
              "    </tr>\n",
              "    <tr>\n",
              "      <th>8</th>\n",
              "      <td>8</td>\n",
              "      <td>9</td>\n",
              "      <td>34</td>\n",
              "      <td>28</td>\n",
              "      <td>7.0</td>\n",
              "    </tr>\n",
              "    <tr>\n",
              "      <th>9</th>\n",
              "      <td>9</td>\n",
              "      <td>10</td>\n",
              "      <td>34</td>\n",
              "      <td>28</td>\n",
              "      <td>0.0</td>\n",
              "    </tr>\n",
              "    <tr>\n",
              "      <th>10</th>\n",
              "      <td>10</td>\n",
              "      <td>11</td>\n",
              "      <td>35</td>\n",
              "      <td>26</td>\n",
              "      <td>61.0</td>\n",
              "    </tr>\n",
              "    <tr>\n",
              "      <th>11</th>\n",
              "      <td>11</td>\n",
              "      <td>12</td>\n",
              "      <td>33</td>\n",
              "      <td>27</td>\n",
              "      <td>56.0</td>\n",
              "    </tr>\n",
              "    <tr>\n",
              "      <th>12</th>\n",
              "      <td>12</td>\n",
              "      <td>13</td>\n",
              "      <td>32</td>\n",
              "      <td>27</td>\n",
              "      <td>51.0</td>\n",
              "    </tr>\n",
              "    <tr>\n",
              "      <th>13</th>\n",
              "      <td>13</td>\n",
              "      <td>14</td>\n",
              "      <td>33</td>\n",
              "      <td>27</td>\n",
              "      <td>40.0</td>\n",
              "    </tr>\n",
              "    <tr>\n",
              "      <th>14</th>\n",
              "      <td>14</td>\n",
              "      <td>15</td>\n",
              "      <td>33</td>\n",
              "      <td>27</td>\n",
              "      <td>41.0</td>\n",
              "    </tr>\n",
              "    <tr>\n",
              "      <th>15</th>\n",
              "      <td>15</td>\n",
              "      <td>16</td>\n",
              "      <td>33</td>\n",
              "      <td>27</td>\n",
              "      <td>48.0</td>\n",
              "    </tr>\n",
              "    <tr>\n",
              "      <th>16</th>\n",
              "      <td>16</td>\n",
              "      <td>17</td>\n",
              "      <td>33</td>\n",
              "      <td>27</td>\n",
              "      <td>45.0</td>\n",
              "    </tr>\n",
              "    <tr>\n",
              "      <th>17</th>\n",
              "      <td>17</td>\n",
              "      <td>18</td>\n",
              "      <td>33</td>\n",
              "      <td>27</td>\n",
              "      <td>51.0</td>\n",
              "    </tr>\n",
              "    <tr>\n",
              "      <th>18</th>\n",
              "      <td>18</td>\n",
              "      <td>19</td>\n",
              "      <td>34</td>\n",
              "      <td>26</td>\n",
              "      <td>52.0</td>\n",
              "    </tr>\n",
              "    <tr>\n",
              "      <th>19</th>\n",
              "      <td>19</td>\n",
              "      <td>20</td>\n",
              "      <td>35</td>\n",
              "      <td>26</td>\n",
              "      <td>40.0</td>\n",
              "    </tr>\n",
              "    <tr>\n",
              "      <th>20</th>\n",
              "      <td>20</td>\n",
              "      <td>21</td>\n",
              "      <td>35</td>\n",
              "      <td>25</td>\n",
              "      <td>40.0</td>\n",
              "    </tr>\n",
              "    <tr>\n",
              "      <th>21</th>\n",
              "      <td>21</td>\n",
              "      <td>22</td>\n",
              "      <td>30</td>\n",
              "      <td>29</td>\n",
              "      <td>56.0</td>\n",
              "    </tr>\n",
              "    <tr>\n",
              "      <th>22</th>\n",
              "      <td>22</td>\n",
              "      <td>23</td>\n",
              "      <td>30</td>\n",
              "      <td>28</td>\n",
              "      <td>61.0</td>\n",
              "    </tr>\n",
              "    <tr>\n",
              "      <th>23</th>\n",
              "      <td>23</td>\n",
              "      <td>24</td>\n",
              "      <td>30</td>\n",
              "      <td>28</td>\n",
              "      <td>62.0</td>\n",
              "    </tr>\n",
              "    <tr>\n",
              "      <th>24</th>\n",
              "      <td>24</td>\n",
              "      <td>25</td>\n",
              "      <td>31</td>\n",
              "      <td>28</td>\n",
              "      <td>63.0</td>\n",
              "    </tr>\n",
              "    <tr>\n",
              "      <th>25</th>\n",
              "      <td>25</td>\n",
              "      <td>26</td>\n",
              "      <td>33</td>\n",
              "      <td>25</td>\n",
              "      <td>40.0</td>\n",
              "    </tr>\n",
              "    <tr>\n",
              "      <th>26</th>\n",
              "      <td>26</td>\n",
              "      <td>27</td>\n",
              "      <td>32</td>\n",
              "      <td>25</td>\n",
              "      <td>61.0</td>\n",
              "    </tr>\n",
              "    <tr>\n",
              "      <th>27</th>\n",
              "      <td>27</td>\n",
              "      <td>28</td>\n",
              "      <td>32</td>\n",
              "      <td>26</td>\n",
              "      <td>63.0</td>\n",
              "    </tr>\n",
              "    <tr>\n",
              "      <th>28</th>\n",
              "      <td>28</td>\n",
              "      <td>29</td>\n",
              "      <td>33</td>\n",
              "      <td>25</td>\n",
              "      <td>64.0</td>\n",
              "    </tr>\n",
              "    <tr>\n",
              "      <th>29</th>\n",
              "      <td>29</td>\n",
              "      <td>30</td>\n",
              "      <td>32</td>\n",
              "      <td>25</td>\n",
              "      <td>56.0</td>\n",
              "    </tr>\n",
              "    <tr>\n",
              "      <th>30</th>\n",
              "      <td>30</td>\n",
              "      <td>31</td>\n",
              "      <td>32</td>\n",
              "      <td>25</td>\n",
              "      <td>56.0</td>\n",
              "    </tr>\n",
              "  </tbody>\n",
              "</table>\n",
              "</div>"
            ],
            "text/plain": [
              "    Unnamed: 0  Date  High_Temperature  Low_Temperature  Precipitation\n",
              "0            0     1                35               26            0.0\n",
              "1            1     2                35               26            2.0\n",
              "2            2     3                35               27            4.0\n",
              "3            3     4                37               26           24.0\n",
              "4            4     5                35               25           17.0\n",
              "5            5     6                34               26            7.0\n",
              "6            6     7                34               27            0.0\n",
              "7            7     8                36               27            0.0\n",
              "8            8     9                34               28            7.0\n",
              "9            9    10                34               28            0.0\n",
              "10          10    11                35               26           61.0\n",
              "11          11    12                33               27           56.0\n",
              "12          12    13                32               27           51.0\n",
              "13          13    14                33               27           40.0\n",
              "14          14    15                33               27           41.0\n",
              "15          15    16                33               27           48.0\n",
              "16          16    17                33               27           45.0\n",
              "17          17    18                33               27           51.0\n",
              "18          18    19                34               26           52.0\n",
              "19          19    20                35               26           40.0\n",
              "20          20    21                35               25           40.0\n",
              "21          21    22                30               29           56.0\n",
              "22          22    23                30               28           61.0\n",
              "23          23    24                30               28           62.0\n",
              "24          24    25                31               28           63.0\n",
              "25          25    26                33               25           40.0\n",
              "26          26    27                32               25           61.0\n",
              "27          27    28                32               26           63.0\n",
              "28          28    29                33               25           64.0\n",
              "29          29    30                32               25           56.0\n",
              "30          30    31                32               25           56.0"
            ]
          },
          "metadata": {
            "tags": []
          },
          "execution_count": 30
        }
      ]
    },
    {
      "cell_type": "markdown",
      "metadata": {
        "id": "PHSqfsVQpjmj",
        "colab_type": "text"
      },
      "source": [
        "Date vs Highest Temperature Graph"
      ]
    },
    {
      "cell_type": "code",
      "metadata": {
        "id": "Jw52JfVzoKoi",
        "colab_type": "code",
        "colab": {
          "base_uri": "https://localhost:8080/",
          "height": 321
        },
        "outputId": "d3381964-a07b-46c6-b845-3dcb9cb21148"
      },
      "source": [
        "plt.plot(df['Date'],df['High_Temperature'])\n",
        "plt.title('Graph of High temperature',fontsize=25)\n",
        "plt.xlabel('Date')\n",
        "plt.ylabel('Highest Temperature')"
      ],
      "execution_count": null,
      "outputs": [
        {
          "output_type": "execute_result",
          "data": {
            "text/plain": [
              "Text(0, 0.5, 'Highest Temperature')"
            ]
          },
          "metadata": {
            "tags": []
          },
          "execution_count": 16
        },
        {
          "output_type": "display_data",
          "data": {
            "image/png": "[encoded data removed]",
            "text/plain": [
              "<Figure size 432x288 with 1 Axes>"
            ]
          },
          "metadata": {
            "tags": [],
            "needs_background": "light"
          }
        }
      ]
    },
    {
      "cell_type": "code",
      "metadata": {
        "id": "OAFHPo7rpJco",
        "colab_type": "code",
        "colab": {
          "base_uri": "https://localhost:8080/",
          "height": 322
        },
        "outputId": "6151c7cc-f5d3-4ffc-f6ad-e84024dc39d6"
      },
      "source": [
        "plt.plot(df['Date'],df['Low_Temperature'])\n",
        "plt.title(\"Date vs Low Temperature\",fontsize=20)\n",
        "plt.xlabel(\"Date\",fontsize=15)\n",
        "plt.ylabel(\"Low Temp. in degree celcius\",fontsize=15)"
      ],
      "execution_count": null,
      "outputs": [
        {
          "output_type": "execute_result",
          "data": {
            "text/plain": [
              "Text(0, 0.5, 'Low Temp. in degree celcius')"
            ]
          },
          "metadata": {
            "tags": []
          },
          "execution_count": 17
        },
        {
          "output_type": "display_data",
          "data": {
            "image/png": "[encoded data removed]",
            "text/plain": [
              "<Figure size 432x288 with 1 Axes>"
            ]
          },
          "metadata": {
            "tags": [],
            "needs_background": "light"
          }
        }
      ]
    },
    {
      "cell_type": "code",
      "metadata": {
        "id": "z8eCB35Nqzuc",
        "colab_type": "code",
        "colab": {
          "base_uri": "https://localhost:8080/",
          "height": 322
        },
        "outputId": "96c7eb53-a140-484c-ea0a-fac6e950b647"
      },
      "source": [
        "plt.plot(df['Date'],df['Precipitation'])\n",
        "plt.title(\"Date vs Precipitation\",fontsize=20)\n",
        "plt.xlabel(\"Date\",fontsize=15)\n",
        "plt.ylabel(\"Precipitation in mm\",fontsize=15)"
      ],
      "execution_count": null,
      "outputs": [
        {
          "output_type": "execute_result",
          "data": {
            "text/plain": [
              "Text(0, 0.5, 'Precipitation in mm')"
            ]
          },
          "metadata": {
            "tags": []
          },
          "execution_count": 27
        },
        {
          "output_type": "display_data",
          "data": {
            "image/png": "[encoded data removed]",
            "text/plain": [
              "<Figure size 432x288 with 1 Axes>"
            ]
          },
          "metadata": {
            "tags": [],
            "needs_background": "light"
          }
        }
      ]
    },
    {
      "cell_type": "code",
      "metadata": {
        "id": "IkCg7wOmuckN",
        "colab_type": "code",
        "colab": {
          "base_uri": "https://localhost:8080/",
          "height": 479
        },
        "outputId": "e468a582-4a05-43b8-d463-72e9340f5117"
      },
      "source": [
        "plt.subplot(2,1,1)\n",
        "plt.plot(df['Date'],df['High_Temperature'])\n",
        "\n",
        "plt.title(\"Date vs High Temperature\",fontsize=20)\n",
        "plt.xlabel(\"Date\",fontsize=15)\n",
        "plt.ylabel(\"High Temp. in degree celcius\",fontsize=15)\n",
        "plt.show()\n",
        "\n",
        "plt.subplot(2,1,2)\n",
        "plt.plot(df_patna['Date'],df_patna['High_Temperature'])\n",
        "\n",
        "plt.title(\"Date vs High Temperature\",fontsize=20)\n",
        "plt.xlabel(\"Date\",fontsize=15)\n",
        "plt.ylabel(\"High Temp. in degree celcius\",fontsize=15)\n",
        "plt.show()"
      ],
      "execution_count": null,
      "outputs": [
        {
          "output_type": "display_data",
          "data": {
            "image/png": "[encoded data removed]",
            "text/plain": [
              "<Figure size 432x288 with 1 Axes>"
            ]
          },
          "metadata": {
            "tags": [],
            "needs_background": "light"
          }
        },
        {
          "output_type": "display_data",
          "data": {
            "image/png": "[encoded data removed]",
            "text/plain": [
              "<Figure size 432x288 with 1 Axes>"
            ]
          },
          "metadata": {
            "tags": [],
            "needs_background": "light"
          }
        }
      ]
    },
    {
      "cell_type": "code",
      "metadata": {
        "id": "XaAPt5aSxbRW",
        "colab_type": "code",
        "colab": {
          "base_uri": "https://localhost:8080/",
          "height": 479
        },
        "outputId": "5969f163-525b-4ab9-b5d5-73d5f209a493"
      },
      "source": [
        "plt.subplot(2,1,1)\n",
        "plt.plot(df['Date'],df['High_Temperature'])\n",
        "\n",
        "plt.title(\"Date vs High Temperature\",fontsize=20)\n",
        "plt.xlabel(\"Date\",fontsize=15)\n",
        "plt.ylabel(\"High Temp. in degree celcius\",fontsize=15)\n",
        "plt.show()\n",
        "\n",
        "plt.subplot(2,1,2)\n",
        "plt.plot(df_patna['Date'],df_patna['High_Temperature'])\n",
        "\n",
        "plt.title(\"Date vs High Temperature\",fontsize=20)\n",
        "plt.xlabel(\"Date\",fontsize=15)\n",
        "plt.ylabel(\"High Temp. in degree celcius\",fontsize=15)\n",
        "plt.show()"
      ],
      "execution_count": 50,
      "outputs": [
        {
          "output_type": "display_data",
          "data": {
            "image/png": "[encoded data removed]",
            "text/plain": [
              "<Figure size 432x288 with 1 Axes>"
            ]
          },
          "metadata": {
            "tags": [],
            "needs_background": "light"
          }
        },
        {
          "output_type": "display_data",
          "data": {
            "image/png": "[encoded data removed]",
            "text/plain": [
              "<Figure size 432x288 with 1 Axes>"
            ]
          },
          "metadata": {
            "tags": [],
            "needs_background": "light"
          }
        }
      ]
    }
  ]
}